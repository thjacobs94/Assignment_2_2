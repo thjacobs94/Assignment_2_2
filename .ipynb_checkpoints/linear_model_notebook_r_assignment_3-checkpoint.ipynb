{
 "cells": [
  {
   "cell_type": "markdown",
   "id": "85d42d15-6dfb-4b0c-b8ec-66a4f02af1d1",
   "metadata": {},
   "source": [
    "Assignment 3: Generating Enhancements to Linear Regression Models in Jupyter Notebooks- R\n"
   ]
  },
  {
   "cell_type": "markdown",
   "id": "e4517c3f-726f-474f-a53f-e88c9b7fed10",
   "metadata": {},
   "source": [
    "This notebook demonstrates a simple linear regression analysis using R to model Salary based on Years of Experience. The first portion of the notebook documents how I worked through assignment 2. Assignment 2 work is demarcated following the \"***Assignment 2***\"\n"
   ]
  },
  {
   "cell_type": "markdown",
   "id": "a686e714-e3cc-4db2-a883-473eaf35cfdb",
   "metadata": {},
   "source": [
    "***Assignment 2***"
   ]
  },
  {
   "cell_type": "code",
   "execution_count": 1,
   "id": "8c3f57f7-4049-45d1-9094-c64b30f084b3",
   "metadata": {},
   "outputs": [],
   "source": [
    "dataset <- read.csv(\"regression_data.csv\")"
   ]
  },
  {
   "cell_type": "markdown",
   "id": "4dc1819c-ffd2-42eb-8c89-963c8dc07326",
   "metadata": {},
   "source": [
    "This function reads in CSV into R and labels the data as \"dataset\""
   ]
  },
  {
   "cell_type": "code",
   "execution_count": 2,
   "id": "3383bef3-8c5d-4dda-9c51-7d26636d75ec",
   "metadata": {},
   "outputs": [
    {
     "data": {
      "image/png": "[encoded data removed]",
      "text/plain": [
       "plot without title"
      ]
     },
     "metadata": {
      "image/png": {
       "height": 420,
       "width": 420
      }
     },
     "output_type": "display_data"
    }
   ],
   "source": [
    "plot(dataset$YearsExperience, dataset$Salary, col=\"red\")"
   ]
  },
  {
   "cell_type": "markdown",
   "id": "88b8ad18-f1c9-40ed-9f77-f59adfa0de00",
   "metadata": {},
   "source": [
    "Scatter plot was generated with y axis being salary and x axis is years of experience."
   ]
  },
  {
   "cell_type": "code",
   "execution_count": 3,
   "id": "32699404-59ba-4ec4-94b7-e6972ffc0803",
   "metadata": {},
   "outputs": [],
   "source": [
    "model <- lm(Salary ~ YearsExperience, data=dataset)"
   ]
  },
  {
   "cell_type": "markdown",
   "id": "feeb0d74-81c1-45f5-b5ca-6b03d11f63d4",
   "metadata": {},
   "source": [
    "Lm() created a linear model based off of dataset data- evaluating the relationship between years of experience and salary. The linear model was named \"model\""
   ]
  },
  {
   "cell_type": "code",
   "execution_count": 4,
   "id": "5a12bd62-978f-4a65-9b32-22d55dcb91d4",
   "metadata": {},
   "outputs": [
    {
     "ename": "ERROR",
     "evalue": "Error in library(ggplot2): there is no package called ‘ggplot2’\n",
     "output_type": "error",
     "traceback": [
      "Error in library(ggplot2): there is no package called ‘ggplot2’\nTraceback:\n",
      "1. stop(packageNotFoundError(package, lib.loc, sys.call()))"
     ]
    }
   ],
   "source": [
    "library(ggplot2)"
   ]
  },
  {
   "cell_type": "markdown",
   "id": "7ad09f12-52ba-40b4-a9da-23a606dc1987",
   "metadata": {},
   "source": [
    "ggplot2 used for advanced plotting of data was not installed."
   ]
  },
  {
   "cell_type": "code",
   "execution_count": 6,
   "id": "09807ef9-7d1f-4bf8-8471-34ec3f82becd",
   "metadata": {},
   "outputs": [
    {
     "ename": "ERROR",
     "evalue": "Error: object 'ggplot2' not found\n",
     "output_type": "error",
     "traceback": [
      "Error: object 'ggplot2' not found\nTraceback:\n",
      "1. .handleSimpleError(function (cnd) \n . {\n .     watcher$capture_plot_and_output()\n .     cnd <- sanitize_call(cnd)\n .     watcher$push(cnd)\n .     switch(on_error, continue = invokeRestart(\"eval_continue\"), \n .         stop = invokeRestart(\"eval_stop\"), error = NULL)\n . }, \"object 'ggplot2' not found\", base::quote(eval(expr, envir)))"
     ]
    }
   ],
   "source": [
    "install.packages(ggplot2)"
   ]
  },
  {
   "cell_type": "code",
   "execution_count": 10,
   "id": "73a4d2fa-5bb2-4c89-8726-2cb891b2a274",
   "metadata": {},
   "outputs": [
    {
     "ename": "ERROR",
     "evalue": "Error in library(ggplot2): there is no package called ‘ggplot2’\n",
     "output_type": "error",
     "traceback": [
      "Error in library(ggplot2): there is no package called ‘ggplot2’\nTraceback:\n",
      "1. stop(packageNotFoundError(package, lib.loc, sys.call()))"
     ]
    }
   ],
   "source": [
    "library(ggplot2)"
   ]
  },
  {
   "cell_type": "code",
   "execution_count": 11,
   "id": "1548ede2-e1d0-436e-914c-58ec6d7de99c",
   "metadata": {},
   "outputs": [
    {
     "ename": "ERROR",
     "evalue": "Error: object 'ggplot2' not found\n",
     "output_type": "error",
     "traceback": [
      "Error: object 'ggplot2' not found\nTraceback:\n",
      "1. .handleSimpleError(function (cnd) \n . {\n .     watcher$capture_plot_and_output()\n .     cnd <- sanitize_call(cnd)\n .     watcher$push(cnd)\n .     switch(on_error, continue = invokeRestart(\"eval_continue\"), \n .         stop = invokeRestart(\"eval_stop\"), error = NULL)\n . }, \"object 'ggplot2' not found\", base::quote(eval(expr, envir)))"
     ]
    }
   ],
   "source": [
    "install.packages(ggplot2)"
   ]
  },
  {
   "cell_type": "code",
   "execution_count": 12,
   "id": "cec27628-e5bb-4366-bd6d-b82f25acec10",
   "metadata": {},
   "outputs": [
    {
     "ename": "ERROR",
     "evalue": "Error: object 'ggplot2' not found\n",
     "output_type": "error",
     "traceback": [
      "Error: object 'ggplot2' not found\nTraceback:\n",
      "1. .handleSimpleError(function (cnd) \n . {\n .     watcher$capture_plot_and_output()\n .     cnd <- sanitize_call(cnd)\n .     watcher$push(cnd)\n .     switch(on_error, continue = invokeRestart(\"eval_continue\"), \n .         stop = invokeRestart(\"eval_stop\"), error = NULL)\n . }, \"object 'ggplot2' not found\", base::quote(eval(expr, envir)))"
     ]
    }
   ],
   "source": [
    "install.packages(ggplot2)"
   ]
  },
  {
   "cell_type": "code",
   "execution_count": 13,
   "id": "2a80ae95-e85f-4494-99d5-92c3cef526c5",
   "metadata": {},
   "outputs": [
    {
     "ename": "ERROR",
     "evalue": "Error: object 'ggplot2' not found\n",
     "output_type": "error",
     "traceback": [
      "Error: object 'ggplot2' not found\nTraceback:\n",
      "1. .handleSimpleError(function (cnd) \n . {\n .     watcher$capture_plot_and_output()\n .     cnd <- sanitize_call(cnd)\n .     watcher$push(cnd)\n .     switch(on_error, continue = invokeRestart(\"eval_continue\"), \n .         stop = invokeRestart(\"eval_stop\"), error = NULL)\n . }, \"object 'ggplot2' not found\", base::quote(eval(expr, envir)))"
     ]
    }
   ],
   "source": [
    "install.packages(ggplot2)"
   ]
  },
  {
   "cell_type": "code",
   "execution_count": 14,
   "id": "4491fefd-2963-49d1-b8b1-d3c648a04bd6",
   "metadata": {},
   "outputs": [
    {
     "ename": "ERROR",
     "evalue": "Error in library(ggplot2): there is no package called ‘ggplot2’\n",
     "output_type": "error",
     "traceback": [
      "Error in library(ggplot2): there is no package called ‘ggplot2’\nTraceback:\n",
      "1. stop(packageNotFoundError(package, lib.loc, sys.call()))"
     ]
    }
   ],
   "source": [
    "library(ggplot2)"
   ]
  },
  {
   "cell_type": "code",
   "execution_count": 15,
   "id": "e4f4c6ec-8cc7-42bc-a566-d23f2ef8ba61",
   "metadata": {},
   "outputs": [
    {
     "ename": "ERROR",
     "evalue": "Error in library(ggplot2): there is no package called ‘ggplot2’\n",
     "output_type": "error",
     "traceback": [
      "Error in library(ggplot2): there is no package called ‘ggplot2’\nTraceback:\n",
      "1. stop(packageNotFoundError(package, lib.loc, sys.call()))"
     ]
    }
   ],
   "source": [
    "library(ggplot2)"
   ]
  },
  {
   "cell_type": "code",
   "execution_count": 16,
   "id": "93ab9ae6-5d8a-499b-9e5e-7158a2699bfb",
   "metadata": {},
   "outputs": [
    {
     "ename": "ERROR",
     "evalue": "Error in library(ggplot2): there is no package called ‘ggplot2’\n",
     "output_type": "error",
     "traceback": [
      "Error in library(ggplot2): there is no package called ‘ggplot2’\nTraceback:\n",
      "1. stop(packageNotFoundError(package, lib.loc, sys.call()))"
     ]
    }
   ],
   "source": [
    "library(ggplot2)\n",
    "ggplot() +\n",
    "  geom_point(aes(x = dataset$YearsExperience, y = dataset$Salary), colour = 'red') +\n",
    "  geom_line(aes(x = dataset$YearsExperience, y = predict(model, newdata = dataset)), colour = 'blue') +\n",
    "  ggtitle('Salary vs Experience') +\n",
    "  xlab('Years of experience') +\n",
    "  ylab('Salary')"
   ]
  },
  {
   "cell_type": "code",
   "execution_count": 1,
   "id": "4fb3f836-6c29-4ec9-afba-aba8a1983aae",
   "metadata": {},
   "outputs": [
    {
     "ename": "ERROR",
     "evalue": "Error in library(ggplot2): there is no package called ‘ggplot2’\n",
     "output_type": "error",
     "traceback": [
      "Error in library(ggplot2): there is no package called ‘ggplot2’\nTraceback:\n",
      "1. stop(packageNotFoundError(package, lib.loc, sys.call()))"
     ]
    }
   ],
   "source": [
    "library(ggplot2)\n",
    "ggplot() +\n",
    "  geom_point(aes(x = dataset$YearsExperience, y = dataset$Salary), colour = 'red') +\n",
    "  geom_line(aes(x = dataset$YearsExperience, y = predict(model, newdata = dataset)), colour = 'blue') +\n",
    "  ggtitle('Salary vs Experience') +\n",
    "  xlab('Years of experience') +\n",
    "  ylab('Salary')"
   ]
  },
  {
   "cell_type": "code",
   "execution_count": 1,
   "id": "d57bb8dc-58d3-4b31-8c44-502f9e70f8b1",
   "metadata": {},
   "outputs": [
    {
     "ename": "ERROR",
     "evalue": "Error in library(ggplot2): there is no package called ‘ggplot2’\n",
     "output_type": "error",
     "traceback": [
      "Error in library(ggplot2): there is no package called ‘ggplot2’\nTraceback:\n",
      "1. stop(packageNotFoundError(package, lib.loc, sys.call()))"
     ]
    }
   ],
   "source": [
    "library(ggplot2)\n",
    "ggplot() +\n",
    "  geom_point(aes(x = dataset$YearsExperience, y = dataset$Salary), colour = 'red') +\n",
    "  geom_line(aes(x = dataset$YearsExperience, y = predict(model, newdata = dataset)), colour = 'blue') +\n",
    "  ggtitle('Salary vs Experience') +\n",
    "  xlab('Years of experience') +\n",
    "  ylab('Salary')"
   ]
  },
  {
   "cell_type": "code",
   "execution_count": 5,
   "id": "d2be7b33-8069-4867-868b-f47e6deda765",
   "metadata": {},
   "outputs": [
    {
     "name": "stderr",
     "output_type": "stream",
     "text": [
      "ERROR while rich displaying an object: \u001b[1m\u001b[33mError\u001b[39m in `geom_line()`:\u001b[22m\n",
      "\u001b[1m\u001b[22m\u001b[33m!\u001b[39m Problem while computing aesthetics.\n",
      "\u001b[36mℹ\u001b[39m Error occurred in the 2nd layer.\n",
      "\u001b[1mCaused by error:\u001b[22m\n",
      "\u001b[33m!\u001b[39m object 'model' not found\n",
      "\n",
      "Traceback:\n",
      "1. sapply(x, f, simplify = simplify)\n",
      "2. lapply(X = X, FUN = FUN, ...)\n",
      "3. FUN(X[[i]], ...)\n",
      "4. tryCatch(withCallingHandlers({\n",
      " .     if (!mime %in% names(repr::mime2repr)) \n",
      " .         stop(\"No repr_* for mimetype \", mime, \" in repr::mime2repr\")\n",
      " .     rpr <- repr::mime2repr[[mime]](obj)\n",
      " .     if (is.null(rpr)) \n",
      " .         return(NULL)\n",
      " .     prepare_content(is.raw(rpr), rpr)\n",
      " . }, error = error_handler), error = outer_handler)\n",
      "5. tryCatchList(expr, classes, parentenv, handlers)\n",
      "6. tryCatchOne(expr, names, parentenv, handlers[[1L]])\n",
      "7. doTryCatch(return(expr), name, parentenv, handler)\n",
      "8. withCallingHandlers({\n",
      " .     if (!mime %in% names(repr::mime2repr)) \n",
      " .         stop(\"No repr_* for mimetype \", mime, \" in repr::mime2repr\")\n",
      " .     rpr <- repr::mime2repr[[mime]](obj)\n",
      " .     if (is.null(rpr)) \n",
      " .         return(NULL)\n",
      " .     prepare_content(is.raw(rpr), rpr)\n",
      " . }, error = error_handler)\n",
      "9. repr::mime2repr[[mime]](obj)\n",
      "10. repr_text.default(obj)\n",
      "11. paste(capture.output(print(obj)), collapse = \"\\n\")\n",
      "12. capture.output(print(obj))\n",
      "13. withVisible(...elt(i))\n",
      "14. print(obj)\n",
      "15. print.ggplot(obj)\n",
      "16. ggplot_build(x)\n",
      "17. ggplot_build.ggplot(x)\n",
      "18. by_layer(function(l, d) l$compute_aesthetics(d, plot), layers, \n",
      "  .     data, \"computing aesthetics\")\n",
      "19. try_fetch(for (i in seq_along(data)) {\n",
      "  .     out[[i]] <- f(l = layers[[i]], d = data[[i]])\n",
      "  . }, error = function(cnd) {\n",
      "  .     cli::cli_abort(c(\"Problem while {step}.\", i = \"Error occurred in the {ordinal(i)} layer.\"), \n",
      "  .         call = layers[[i]]$constructor, parent = cnd)\n",
      "  . })\n",
      "20. tryCatch(withCallingHandlers(expr, condition = function(cnd) {\n",
      "  .     {\n",
      "  .         .__handler_frame__. <- TRUE\n",
      "  .         .__setup_frame__. <- frame\n",
      "  .         if (inherits(cnd, \"message\")) {\n",
      "  .             except <- c(\"warning\", \"error\")\n",
      "  .         }\n",
      "  .         else if (inherits(cnd, \"warning\")) {\n",
      "  .             except <- \"error\"\n",
      "  .         }\n",
      "  .         else {\n",
      "  .             except <- \"\"\n",
      "  .         }\n",
      "  .     }\n",
      "  .     while (!is_null(cnd)) {\n",
      "  .         if (inherits(cnd, \"error\")) {\n",
      "  .             out <- handlers[[1L]](cnd)\n",
      "  .             if (!inherits(out, \"rlang_zap\")) \n",
      "  .                 throw(out)\n",
      "  .         }\n",
      "  .         inherit <- .subset2(.subset2(cnd, \"rlang\"), \"inherit\")\n",
      "  .         if (is_false(inherit)) {\n",
      "  .             return()\n",
      "  .         }\n",
      "  .         cnd <- .subset2(cnd, \"parent\")\n",
      "  .     }\n",
      "  . }), stackOverflowError = handlers[[1L]])\n",
      "21. tryCatchList(expr, classes, parentenv, handlers)\n",
      "22. tryCatchOne(expr, names, parentenv, handlers[[1L]])\n",
      "23. doTryCatch(return(expr), name, parentenv, handler)\n",
      "24. withCallingHandlers(expr, condition = function(cnd) {\n",
      "  .     {\n",
      "  .         .__handler_frame__. <- TRUE\n",
      "  .         .__setup_frame__. <- frame\n",
      "  .         if (inherits(cnd, \"message\")) {\n",
      "  .             except <- c(\"warning\", \"error\")\n",
      "  .         }\n",
      "  .         else if (inherits(cnd, \"warning\")) {\n",
      "  .             except <- \"error\"\n",
      "  .         }\n",
      "  .         else {\n",
      "  .             except <- \"\"\n",
      "  .         }\n",
      "  .     }\n",
      "  .     while (!is_null(cnd)) {\n",
      "  .         if (inherits(cnd, \"error\")) {\n",
      "  .             out <- handlers[[1L]](cnd)\n",
      "  .             if (!inherits(out, \"rlang_zap\")) \n",
      "  .                 throw(out)\n",
      "  .         }\n",
      "  .         inherit <- .subset2(.subset2(cnd, \"rlang\"), \"inherit\")\n",
      "  .         if (is_false(inherit)) {\n",
      "  .             return()\n",
      "  .         }\n",
      "  .         cnd <- .subset2(cnd, \"parent\")\n",
      "  .     }\n",
      "  . })\n",
      "25. f(l = layers[[i]], d = data[[i]])\n",
      "26. l$compute_aesthetics(d, plot)\n",
      "27. compute_aesthetics(..., self = self)\n",
      "28. lapply(aesthetics, eval_tidy, data = data, env = env)\n",
      "29. FUN(X[[i]], ...)\n",
      "30. predict(model, newdata = dataset)\n",
      "31. .handleSimpleError(function (cnd) \n",
      "  . {\n",
      "  .     {\n",
      "  .         .__handler_frame__. <- TRUE\n",
      "  .         .__setup_frame__. <- frame\n",
      "  .         if (inherits(cnd, \"message\")) {\n",
      "  .             except <- c(\"warning\", \"error\")\n",
      "  .         }\n",
      "  .         else if (inherits(cnd, \"warning\")) {\n",
      "  .             except <- \"error\"\n",
      "  .         }\n",
      "  .         else {\n",
      "  .             except <- \"\"\n",
      "  .         }\n",
      "  .     }\n",
      "  .     while (!is_null(cnd)) {\n",
      "  .         if (inherits(cnd, \"error\")) {\n",
      "  .             out <- handlers[[1L]](cnd)\n",
      "  .             if (!inherits(out, \"rlang_zap\")) \n",
      "  .                 throw(out)\n",
      "  .         }\n",
      "  .         inherit <- .subset2(.subset2(cnd, \"rlang\"), \"inherit\")\n",
      "  .         if (is_false(inherit)) {\n",
      "  .             return()\n",
      "  .         }\n",
      "  .         cnd <- .subset2(cnd, \"parent\")\n",
      "  .     }\n",
      "  . }, \"object 'model' not found\", base::quote(NULL))\n",
      "32. h(simpleError(msg, call))\n",
      "33. handlers[[1L]](cnd)\n",
      "34. cli::cli_abort(c(\"Problem while {step}.\", i = \"Error occurred in the {ordinal(i)} layer.\"), \n",
      "  .     call = layers[[i]]$constructor, parent = cnd)\n",
      "35. rlang::abort(message, ..., call = call, use_cli_format = TRUE, \n",
      "  .     .frame = .frame)\n",
      "36. signal_abort(cnd, .file)\n"
     ]
    }
   ],
   "source": [
    "library(ggplot2)\n",
    "ggplot() +\n",
    "  geom_point(aes(x = dataset$YearsExperience, y = dataset$Salary), colour = 'red') +\n",
    "  geom_line(aes(x = dataset$YearsExperience, y = predict(model, newdata = dataset)), colour = 'blue') +\n",
    "  ggtitle('Salary vs Experience') +\n",
    "  xlab('Years of experience') +\n",
    "  ylab('Salary')"
   ]
  },
  {
   "cell_type": "code",
   "execution_count": 6,
   "id": "3d3f8593-c5bd-4895-9398-93c237bdc0a9",
   "metadata": {},
   "outputs": [
    {
     "name": "stderr",
     "output_type": "stream",
     "text": [
      "ERROR while rich displaying an object: \u001b[1m\u001b[33mError\u001b[39m in `geom_line()`:\u001b[22m\n",
      "\u001b[1m\u001b[22m\u001b[33m!\u001b[39m Problem while computing aesthetics.\n",
      "\u001b[36mℹ\u001b[39m Error occurred in the 2nd layer.\n",
      "\u001b[1mCaused by error:\u001b[22m\n",
      "\u001b[33m!\u001b[39m object 'model' not found\n",
      "\n",
      "Traceback:\n",
      "1. sapply(x, f, simplify = simplify)\n",
      "2. lapply(X = X, FUN = FUN, ...)\n",
      "3. FUN(X[[i]], ...)\n",
      "4. tryCatch(withCallingHandlers({\n",
      " .     if (!mime %in% names(repr::mime2repr)) \n",
      " .         stop(\"No repr_* for mimetype \", mime, \" in repr::mime2repr\")\n",
      " .     rpr <- repr::mime2repr[[mime]](obj)\n",
      " .     if (is.null(rpr)) \n",
      " .         return(NULL)\n",
      " .     prepare_content(is.raw(rpr), rpr)\n",
      " . }, error = error_handler), error = outer_handler)\n",
      "5. tryCatchList(expr, classes, parentenv, handlers)\n",
      "6. tryCatchOne(expr, names, parentenv, handlers[[1L]])\n",
      "7. doTryCatch(return(expr), name, parentenv, handler)\n",
      "8. withCallingHandlers({\n",
      " .     if (!mime %in% names(repr::mime2repr)) \n",
      " .         stop(\"No repr_* for mimetype \", mime, \" in repr::mime2repr\")\n",
      " .     rpr <- repr::mime2repr[[mime]](obj)\n",
      " .     if (is.null(rpr)) \n",
      " .         return(NULL)\n",
      " .     prepare_content(is.raw(rpr), rpr)\n",
      " . }, error = error_handler)\n",
      "9. repr::mime2repr[[mime]](obj)\n",
      "10. repr_text.default(obj)\n",
      "11. paste(capture.output(print(obj)), collapse = \"\\n\")\n",
      "12. capture.output(print(obj))\n",
      "13. withVisible(...elt(i))\n",
      "14. print(obj)\n",
      "15. print.ggplot(obj)\n",
      "16. ggplot_build(x)\n",
      "17. ggplot_build.ggplot(x)\n",
      "18. by_layer(function(l, d) l$compute_aesthetics(d, plot), layers, \n",
      "  .     data, \"computing aesthetics\")\n",
      "19. try_fetch(for (i in seq_along(data)) {\n",
      "  .     out[[i]] <- f(l = layers[[i]], d = data[[i]])\n",
      "  . }, error = function(cnd) {\n",
      "  .     cli::cli_abort(c(\"Problem while {step}.\", i = \"Error occurred in the {ordinal(i)} layer.\"), \n",
      "  .         call = layers[[i]]$constructor, parent = cnd)\n",
      "  . })\n",
      "20. tryCatch(withCallingHandlers(expr, condition = function(cnd) {\n",
      "  .     {\n",
      "  .         .__handler_frame__. <- TRUE\n",
      "  .         .__setup_frame__. <- frame\n",
      "  .         if (inherits(cnd, \"message\")) {\n",
      "  .             except <- c(\"warning\", \"error\")\n",
      "  .         }\n",
      "  .         else if (inherits(cnd, \"warning\")) {\n",
      "  .             except <- \"error\"\n",
      "  .         }\n",
      "  .         else {\n",
      "  .             except <- \"\"\n",
      "  .         }\n",
      "  .     }\n",
      "  .     while (!is_null(cnd)) {\n",
      "  .         if (inherits(cnd, \"error\")) {\n",
      "  .             out <- handlers[[1L]](cnd)\n",
      "  .             if (!inherits(out, \"rlang_zap\")) \n",
      "  .                 throw(out)\n",
      "  .         }\n",
      "  .         inherit <- .subset2(.subset2(cnd, \"rlang\"), \"inherit\")\n",
      "  .         if (is_false(inherit)) {\n",
      "  .             return()\n",
      "  .         }\n",
      "  .         cnd <- .subset2(cnd, \"parent\")\n",
      "  .     }\n",
      "  . }), stackOverflowError = handlers[[1L]])\n",
      "21. tryCatchList(expr, classes, parentenv, handlers)\n",
      "22. tryCatchOne(expr, names, parentenv, handlers[[1L]])\n",
      "23. doTryCatch(return(expr), name, parentenv, handler)\n",
      "24. withCallingHandlers(expr, condition = function(cnd) {\n",
      "  .     {\n",
      "  .         .__handler_frame__. <- TRUE\n",
      "  .         .__setup_frame__. <- frame\n",
      "  .         if (inherits(cnd, \"message\")) {\n",
      "  .             except <- c(\"warning\", \"error\")\n",
      "  .         }\n",
      "  .         else if (inherits(cnd, \"warning\")) {\n",
      "  .             except <- \"error\"\n",
      "  .         }\n",
      "  .         else {\n",
      "  .             except <- \"\"\n",
      "  .         }\n",
      "  .     }\n",
      "  .     while (!is_null(cnd)) {\n",
      "  .         if (inherits(cnd, \"error\")) {\n",
      "  .             out <- handlers[[1L]](cnd)\n",
      "  .             if (!inherits(out, \"rlang_zap\")) \n",
      "  .                 throw(out)\n",
      "  .         }\n",
      "  .         inherit <- .subset2(.subset2(cnd, \"rlang\"), \"inherit\")\n",
      "  .         if (is_false(inherit)) {\n",
      "  .             return()\n",
      "  .         }\n",
      "  .         cnd <- .subset2(cnd, \"parent\")\n",
      "  .     }\n",
      "  . })\n",
      "25. f(l = layers[[i]], d = data[[i]])\n",
      "26. l$compute_aesthetics(d, plot)\n",
      "27. compute_aesthetics(..., self = self)\n",
      "28. lapply(aesthetics, eval_tidy, data = data, env = env)\n",
      "29. FUN(X[[i]], ...)\n",
      "30. predict(model, newdata = dataset)\n",
      "31. .handleSimpleError(function (cnd) \n",
      "  . {\n",
      "  .     {\n",
      "  .         .__handler_frame__. <- TRUE\n",
      "  .         .__setup_frame__. <- frame\n",
      "  .         if (inherits(cnd, \"message\")) {\n",
      "  .             except <- c(\"warning\", \"error\")\n",
      "  .         }\n",
      "  .         else if (inherits(cnd, \"warning\")) {\n",
      "  .             except <- \"error\"\n",
      "  .         }\n",
      "  .         else {\n",
      "  .             except <- \"\"\n",
      "  .         }\n",
      "  .     }\n",
      "  .     while (!is_null(cnd)) {\n",
      "  .         if (inherits(cnd, \"error\")) {\n",
      "  .             out <- handlers[[1L]](cnd)\n",
      "  .             if (!inherits(out, \"rlang_zap\")) \n",
      "  .                 throw(out)\n",
      "  .         }\n",
      "  .         inherit <- .subset2(.subset2(cnd, \"rlang\"), \"inherit\")\n",
      "  .         if (is_false(inherit)) {\n",
      "  .             return()\n",
      "  .         }\n",
      "  .         cnd <- .subset2(cnd, \"parent\")\n",
      "  .     }\n",
      "  . }, \"object 'model' not found\", base::quote(NULL))\n",
      "32. h(simpleError(msg, call))\n",
      "33. handlers[[1L]](cnd)\n",
      "34. cli::cli_abort(c(\"Problem while {step}.\", i = \"Error occurred in the {ordinal(i)} layer.\"), \n",
      "  .     call = layers[[i]]$constructor, parent = cnd)\n",
      "35. rlang::abort(message, ..., call = call, use_cli_format = TRUE, \n",
      "  .     .frame = .frame)\n",
      "36. signal_abort(cnd, .file)\n"
     ]
    }
   ],
   "source": [
    "library(ggplot2)\n",
    "ggplot() +\n",
    "  geom_point(aes(x = dataset$YearsExperience, y = dataset$Salary), colour = 'red') +\n",
    "  geom_line(aes(x = dataset$YearsExperience, y = predict(model, newdata = dataset)), colour = 'blue') +\n",
    "  ggtitle('Salary vs Experience') +\n",
    "  xlab('Years of experience') +\n",
    "  ylab('Salary')"
   ]
  },
  {
   "cell_type": "code",
   "execution_count": 4,
   "id": "64f2d250-3e3e-49c6-9047-457fe4f1d566",
   "metadata": {},
   "outputs": [],
   "source": [
    "library(ggplot2)"
   ]
  },
  {
   "cell_type": "markdown",
   "id": "bd62dfef-3952-4faa-8055-ed6d847118b0",
   "metadata": {},
   "source": [
    "Installed ggplot2 and then had to re-run my codes before I was able to perform a plot of the database data (struggles shown above). Had to go to the terminal and performed a \"conda install -c conda-forge r-ggplot2\""
   ]
  },
  {
   "cell_type": "code",
   "execution_count": 9,
   "id": "ae79132e-1130-4365-b925-2138837e715d",
   "metadata": {},
   "outputs": [
    {
     "data": {
      "image/png": "[encoded data removed]",
      "text/plain": [
       "plot without title"
      ]
     },
     "metadata": {
      "image/png": {
       "height": 420,
       "width": 420
      }
     },
     "output_type": "display_data"
    }
   ],
   "source": [
    "ggplot() +\n",
    "  geom_point(aes(x = dataset$YearsExperience, y = dataset$Salary), colour = 'red')"
   ]
  },
  {
   "cell_type": "code",
   "execution_count": 11,
   "id": "997e0bcb-c851-4a9f-9f31-c9ada5512736",
   "metadata": {},
   "outputs": [
    {
     "data": {
      "text/plain": [
       "mapping: x = ~dataset$YearsExperience, y = ~predict(model, newdata = dataset) \n",
       "geom_line: na.rm = FALSE, orientation = NA\n",
       "stat_identity: na.rm = FALSE\n",
       "position_identity "
      ]
     },
     "metadata": {},
     "output_type": "display_data"
    }
   ],
   "source": [
    "geom_line(aes(x = dataset$YearsExperience, y = predict(model, newdata = dataset)), colour = 'blue')"
   ]
  },
  {
   "cell_type": "code",
   "execution_count": null,
   "id": "e11790bd-91e7-406f-b038-ca0327798f44",
   "metadata": {},
   "outputs": [],
   "source": [
    "ggtitle('Salary vs Experience') "
   ]
  },
  {
   "cell_type": "markdown",
   "id": "5011b6a1-d50f-4ce3-af27-f5737a2da4d8",
   "metadata": {},
   "source": [
    "Went through each line of the plot code to ensure each unit was functional."
   ]
  },
  {
   "cell_type": "code",
   "execution_count": 5,
   "id": "c88204a7-30b5-47f4-b488-ad3eed3e3127",
   "metadata": {},
   "outputs": [
    {
     "name": "stderr",
     "output_type": "stream",
     "text": [
      "ERROR while rich displaying an object: \u001b[1m\u001b[33mError\u001b[39m in `geom_point()`:\u001b[22m\n",
      "\u001b[1m\u001b[22m\u001b[33m!\u001b[39m Problem while computing aesthetics.\n",
      "\u001b[36mℹ\u001b[39m Error occurred in the 1st layer.\n",
      "\u001b[1mCaused by error:\u001b[22m\n",
      "\u001b[33m!\u001b[39m object 'dataset' not found\n",
      "\n",
      "Traceback:\n",
      "1. sapply(x, f, simplify = simplify)\n",
      "2. lapply(X = X, FUN = FUN, ...)\n",
      "3. FUN(X[[i]], ...)\n",
      "4. tryCatch(withCallingHandlers({\n",
      " .     if (!mime %in% names(repr::mime2repr)) \n",
      " .         stop(\"No repr_* for mimetype \", mime, \" in repr::mime2repr\")\n",
      " .     rpr <- repr::mime2repr[[mime]](obj)\n",
      " .     if (is.null(rpr)) \n",
      " .         return(NULL)\n",
      " .     prepare_content(is.raw(rpr), rpr)\n",
      " . }, error = error_handler), error = outer_handler)\n",
      "5. tryCatchList(expr, classes, parentenv, handlers)\n",
      "6. tryCatchOne(expr, names, parentenv, handlers[[1L]])\n",
      "7. doTryCatch(return(expr), name, parentenv, handler)\n",
      "8. withCallingHandlers({\n",
      " .     if (!mime %in% names(repr::mime2repr)) \n",
      " .         stop(\"No repr_* for mimetype \", mime, \" in repr::mime2repr\")\n",
      " .     rpr <- repr::mime2repr[[mime]](obj)\n",
      " .     if (is.null(rpr)) \n",
      " .         return(NULL)\n",
      " .     prepare_content(is.raw(rpr), rpr)\n",
      " . }, error = error_handler)\n",
      "9. repr::mime2repr[[mime]](obj)\n",
      "10. repr_text.default(obj)\n",
      "11. paste(capture.output(print(obj)), collapse = \"\\n\")\n",
      "12. capture.output(print(obj))\n",
      "13. withVisible(...elt(i))\n",
      "14. print(obj)\n",
      "15. print.ggplot(obj)\n",
      "16. ggplot_build(x)\n",
      "17. ggplot_build.ggplot(x)\n",
      "18. by_layer(function(l, d) l$compute_aesthetics(d, plot), layers, \n",
      "  .     data, \"computing aesthetics\")\n",
      "19. try_fetch(for (i in seq_along(data)) {\n",
      "  .     out[[i]] <- f(l = layers[[i]], d = data[[i]])\n",
      "  . }, error = function(cnd) {\n",
      "  .     cli::cli_abort(c(\"Problem while {step}.\", i = \"Error occurred in the {ordinal(i)} layer.\"), \n",
      "  .         call = layers[[i]]$constructor, parent = cnd)\n",
      "  . })\n",
      "20. tryCatch(withCallingHandlers(expr, condition = function(cnd) {\n",
      "  .     {\n",
      "  .         .__handler_frame__. <- TRUE\n",
      "  .         .__setup_frame__. <- frame\n",
      "  .         if (inherits(cnd, \"message\")) {\n",
      "  .             except <- c(\"warning\", \"error\")\n",
      "  .         }\n",
      "  .         else if (inherits(cnd, \"warning\")) {\n",
      "  .             except <- \"error\"\n",
      "  .         }\n",
      "  .         else {\n",
      "  .             except <- \"\"\n",
      "  .         }\n",
      "  .     }\n",
      "  .     while (!is_null(cnd)) {\n",
      "  .         if (inherits(cnd, \"error\")) {\n",
      "  .             out <- handlers[[1L]](cnd)\n",
      "  .             if (!inherits(out, \"rlang_zap\")) \n",
      "  .                 throw(out)\n",
      "  .         }\n",
      "  .         inherit <- .subset2(.subset2(cnd, \"rlang\"), \"inherit\")\n",
      "  .         if (is_false(inherit)) {\n",
      "  .             return()\n",
      "  .         }\n",
      "  .         cnd <- .subset2(cnd, \"parent\")\n",
      "  .     }\n",
      "  . }), stackOverflowError = handlers[[1L]])\n",
      "21. tryCatchList(expr, classes, parentenv, handlers)\n",
      "22. tryCatchOne(expr, names, parentenv, handlers[[1L]])\n",
      "23. doTryCatch(return(expr), name, parentenv, handler)\n",
      "24. withCallingHandlers(expr, condition = function(cnd) {\n",
      "  .     {\n",
      "  .         .__handler_frame__. <- TRUE\n",
      "  .         .__setup_frame__. <- frame\n",
      "  .         if (inherits(cnd, \"message\")) {\n",
      "  .             except <- c(\"warning\", \"error\")\n",
      "  .         }\n",
      "  .         else if (inherits(cnd, \"warning\")) {\n",
      "  .             except <- \"error\"\n",
      "  .         }\n",
      "  .         else {\n",
      "  .             except <- \"\"\n",
      "  .         }\n",
      "  .     }\n",
      "  .     while (!is_null(cnd)) {\n",
      "  .         if (inherits(cnd, \"error\")) {\n",
      "  .             out <- handlers[[1L]](cnd)\n",
      "  .             if (!inherits(out, \"rlang_zap\")) \n",
      "  .                 throw(out)\n",
      "  .         }\n",
      "  .         inherit <- .subset2(.subset2(cnd, \"rlang\"), \"inherit\")\n",
      "  .         if (is_false(inherit)) {\n",
      "  .             return()\n",
      "  .         }\n",
      "  .         cnd <- .subset2(cnd, \"parent\")\n",
      "  .     }\n",
      "  . })\n",
      "25. f(l = layers[[i]], d = data[[i]])\n",
      "26. l$compute_aesthetics(d, plot)\n",
      "27. compute_aesthetics(..., self = self)\n",
      "28. lapply(aesthetics, eval_tidy, data = data, env = env)\n",
      "29. FUN(X[[i]], ...)\n",
      "30. .handleSimpleError(function (cnd) \n",
      "  . {\n",
      "  .     {\n",
      "  .         .__handler_frame__. <- TRUE\n",
      "  .         .__setup_frame__. <- frame\n",
      "  .         if (inherits(cnd, \"message\")) {\n",
      "  .             except <- c(\"warning\", \"error\")\n",
      "  .         }\n",
      "  .         else if (inherits(cnd, \"warning\")) {\n",
      "  .             except <- \"error\"\n",
      "  .         }\n",
      "  .         else {\n",
      "  .             except <- \"\"\n",
      "  .         }\n",
      "  .     }\n",
      "  .     while (!is_null(cnd)) {\n",
      "  .         if (inherits(cnd, \"error\")) {\n",
      "  .             out <- handlers[[1L]](cnd)\n",
      "  .             if (!inherits(out, \"rlang_zap\")) \n",
      "  .                 throw(out)\n",
      "  .         }\n",
      "  .         inherit <- .subset2(.subset2(cnd, \"rlang\"), \"inherit\")\n",
      "  .         if (is_false(inherit)) {\n",
      "  .             return()\n",
      "  .         }\n",
      "  .         cnd <- .subset2(cnd, \"parent\")\n",
      "  .     }\n",
      "  . }, \"object 'dataset' not found\", base::quote(NULL))\n",
      "31. h(simpleError(msg, call))\n",
      "32. handlers[[1L]](cnd)\n",
      "33. cli::cli_abort(c(\"Problem while {step}.\", i = \"Error occurred in the {ordinal(i)} layer.\"), \n",
      "  .     call = layers[[i]]$constructor, parent = cnd)\n",
      "34. rlang::abort(message, ..., call = call, use_cli_format = TRUE, \n",
      "  .     .frame = .frame)\n",
      "35. signal_abort(cnd, .file)\n"
     ]
    }
   ],
   "source": [
    "library(ggplot2)\n",
    "ggplot() +\n",
    "  geom_point(aes(x = dataset$YearsExperience, y = dataset$Salary), colour = 'red') +\n",
    "  geom_line(aes(x = dataset$YearsExperience, y = predict(model, newdata = dataset)), colour = 'blue') +\n",
    "  ggtitle('Salary vs Experience') +\n",
    "  xlab('Years of experience') +\n",
    "  ylab('Salary')"
   ]
  },
  {
   "cell_type": "markdown",
   "id": "fce404b1-8978-4040-8dd7-08ee84e0c384",
   "metadata": {},
   "source": [
    "Combined all steps of generating the plot. Plot generated with all proper labels. "
   ]
  },
  {
   "cell_type": "code",
   "execution_count": 14,
   "id": "6307a405-4bdd-4cd5-adaf-4222f47cc492",
   "metadata": {},
   "outputs": [
    {
     "data": {
      "text/plain": [
       "\n",
       "Call:\n",
       "lm(formula = Salary ~ YearsExperience, data = dataset)\n",
       "\n",
       "Residuals:\n",
       "    Min      1Q  Median      3Q     Max \n",
       "-7540.2 -2564.9  -199.1  2814.8  6230.6 \n",
       "\n",
       "Coefficients:\n",
       "                Estimate Std. Error t value Pr(>|t|)    \n",
       "(Intercept)        29204       4092   7.136 9.84e-05 ***\n",
       "YearsExperience     8285       1532   5.407 0.000641 ***\n",
       "---\n",
       "Signif. codes:  0 ‘***’ 0.001 ‘**’ 0.01 ‘*’ 0.05 ‘.’ 0.1 ‘ ’ 1\n",
       "\n",
       "Residual standard error: 4680 on 8 degrees of freedom\n",
       "Multiple R-squared:  0.7852,\tAdjusted R-squared:  0.7583 \n",
       "F-statistic: 29.24 on 1 and 8 DF,  p-value: 0.0006407\n"
      ]
     },
     "metadata": {},
     "output_type": "display_data"
    }
   ],
   "source": [
    "summary(model)"
   ]
  },
  {
   "cell_type": "markdown",
   "id": "8fe0fc27-5bf2-471f-920b-c068a2182b75",
   "metadata": {},
   "source": [
    "Performed a statistical summary of the linear regression model of the dataset. The R-squared values and the p-value associated with the model is provided from this function. "
   ]
  },
  {
   "cell_type": "code",
   "execution_count": 7,
   "id": "a4b15ed5-31b2-4ce4-9d54-0963f97f48dd",
   "metadata": {},
   "outputs": [
    {
     "ename": "ERROR",
     "evalue": "Error: object 'ggplot2' not found\n",
     "output_type": "error",
     "traceback": [
      "Error: object 'ggplot2' not found\nTraceback:\n",
      "1. .handleSimpleError(function (cnd) \n . {\n .     watcher$capture_plot_and_output()\n .     cnd <- sanitize_call(cnd)\n .     watcher$push(cnd)\n .     switch(on_error, continue = invokeRestart(\"eval_continue\"), \n .         stop = invokeRestart(\"eval_stop\"), error = NULL)\n . }, \"object 'ggplot2' not found\", base::quote(eval(expr, envir)))"
     ]
    }
   ],
   "source": [
    "install.packages(ggplot2)"
   ]
  },
  {
   "cell_type": "code",
   "execution_count": 8,
   "id": "abe68459-99a7-4145-8d33-f45d4939dabc",
   "metadata": {},
   "outputs": [
    {
     "ename": "ERROR",
     "evalue": "Error in parse(text = input): <text>:1:7: unexpected symbol\n1: conda install\n          ^\n",
     "output_type": "error",
     "traceback": [
      "Error in parse(text = input): <text>:1:7: unexpected symbol\n1: conda install\n          ^\nTraceback:\n"
     ]
    }
   ],
   "source": [
    "conda install -c conda-forge r-ggplot2"
   ]
  },
  {
   "cell_type": "code",
   "execution_count": 9,
   "id": "99049c10-6001-4a95-a02b-9807bf812bc9",
   "metadata": {},
   "outputs": [],
   "source": [
    "library(ggplot2)"
   ]
  },
  {
   "cell_type": "code",
   "execution_count": 10,
   "id": "a5178f80-3a64-4926-8996-67d9e46ffb27",
   "metadata": {},
   "outputs": [
    {
     "name": "stderr",
     "output_type": "stream",
     "text": [
      "ERROR while rich displaying an object: \u001b[1m\u001b[33mError\u001b[39m in `geom_point()`:\u001b[22m\n",
      "\u001b[1m\u001b[22m\u001b[33m!\u001b[39m Problem while computing aesthetics.\n",
      "\u001b[36mℹ\u001b[39m Error occurred in the 1st layer.\n",
      "\u001b[1mCaused by error:\u001b[22m\n",
      "\u001b[33m!\u001b[39m object 'dataset' not found\n",
      "\n",
      "Traceback:\n",
      "1. sapply(x, f, simplify = simplify)\n",
      "2. lapply(X = X, FUN = FUN, ...)\n",
      "3. FUN(X[[i]], ...)\n",
      "4. tryCatch(withCallingHandlers({\n",
      " .     if (!mime %in% names(repr::mime2repr)) \n",
      " .         stop(\"No repr_* for mimetype \", mime, \" in repr::mime2repr\")\n",
      " .     rpr <- repr::mime2repr[[mime]](obj)\n",
      " .     if (is.null(rpr)) \n",
      " .         return(NULL)\n",
      " .     prepare_content(is.raw(rpr), rpr)\n",
      " . }, error = error_handler), error = outer_handler)\n",
      "5. tryCatchList(expr, classes, parentenv, handlers)\n",
      "6. tryCatchOne(expr, names, parentenv, handlers[[1L]])\n",
      "7. doTryCatch(return(expr), name, parentenv, handler)\n",
      "8. withCallingHandlers({\n",
      " .     if (!mime %in% names(repr::mime2repr)) \n",
      " .         stop(\"No repr_* for mimetype \", mime, \" in repr::mime2repr\")\n",
      " .     rpr <- repr::mime2repr[[mime]](obj)\n",
      " .     if (is.null(rpr)) \n",
      " .         return(NULL)\n",
      " .     prepare_content(is.raw(rpr), rpr)\n",
      " . }, error = error_handler)\n",
      "9. repr::mime2repr[[mime]](obj)\n",
      "10. repr_text.default(obj)\n",
      "11. paste(capture.output(print(obj)), collapse = \"\\n\")\n",
      "12. capture.output(print(obj))\n",
      "13. withVisible(...elt(i))\n",
      "14. print(obj)\n",
      "15. print.ggplot(obj)\n",
      "16. ggplot_build(x)\n",
      "17. ggplot_build.ggplot(x)\n",
      "18. by_layer(function(l, d) l$compute_aesthetics(d, plot), layers, \n",
      "  .     data, \"computing aesthetics\")\n",
      "19. try_fetch(for (i in seq_along(data)) {\n",
      "  .     out[[i]] <- f(l = layers[[i]], d = data[[i]])\n",
      "  . }, error = function(cnd) {\n",
      "  .     cli::cli_abort(c(\"Problem while {step}.\", i = \"Error occurred in the {ordinal(i)} layer.\"), \n",
      "  .         call = layers[[i]]$constructor, parent = cnd)\n",
      "  . })\n",
      "20. tryCatch(withCallingHandlers(expr, condition = function(cnd) {\n",
      "  .     {\n",
      "  .         .__handler_frame__. <- TRUE\n",
      "  .         .__setup_frame__. <- frame\n",
      "  .         if (inherits(cnd, \"message\")) {\n",
      "  .             except <- c(\"warning\", \"error\")\n",
      "  .         }\n",
      "  .         else if (inherits(cnd, \"warning\")) {\n",
      "  .             except <- \"error\"\n",
      "  .         }\n",
      "  .         else {\n",
      "  .             except <- \"\"\n",
      "  .         }\n",
      "  .     }\n",
      "  .     while (!is_null(cnd)) {\n",
      "  .         if (inherits(cnd, \"error\")) {\n",
      "  .             out <- handlers[[1L]](cnd)\n",
      "  .             if (!inherits(out, \"rlang_zap\")) \n",
      "  .                 throw(out)\n",
      "  .         }\n",
      "  .         inherit <- .subset2(.subset2(cnd, \"rlang\"), \"inherit\")\n",
      "  .         if (is_false(inherit)) {\n",
      "  .             return()\n",
      "  .         }\n",
      "  .         cnd <- .subset2(cnd, \"parent\")\n",
      "  .     }\n",
      "  . }), stackOverflowError = handlers[[1L]])\n",
      "21. tryCatchList(expr, classes, parentenv, handlers)\n",
      "22. tryCatchOne(expr, names, parentenv, handlers[[1L]])\n",
      "23. doTryCatch(return(expr), name, parentenv, handler)\n",
      "24. withCallingHandlers(expr, condition = function(cnd) {\n",
      "  .     {\n",
      "  .         .__handler_frame__. <- TRUE\n",
      "  .         .__setup_frame__. <- frame\n",
      "  .         if (inherits(cnd, \"message\")) {\n",
      "  .             except <- c(\"warning\", \"error\")\n",
      "  .         }\n",
      "  .         else if (inherits(cnd, \"warning\")) {\n",
      "  .             except <- \"error\"\n",
      "  .         }\n",
      "  .         else {\n",
      "  .             except <- \"\"\n",
      "  .         }\n",
      "  .     }\n",
      "  .     while (!is_null(cnd)) {\n",
      "  .         if (inherits(cnd, \"error\")) {\n",
      "  .             out <- handlers[[1L]](cnd)\n",
      "  .             if (!inherits(out, \"rlang_zap\")) \n",
      "  .                 throw(out)\n",
      "  .         }\n",
      "  .         inherit <- .subset2(.subset2(cnd, \"rlang\"), \"inherit\")\n",
      "  .         if (is_false(inherit)) {\n",
      "  .             return()\n",
      "  .         }\n",
      "  .         cnd <- .subset2(cnd, \"parent\")\n",
      "  .     }\n",
      "  . })\n",
      "25. f(l = layers[[i]], d = data[[i]])\n",
      "26. l$compute_aesthetics(d, plot)\n",
      "27. compute_aesthetics(..., self = self)\n",
      "28. lapply(aesthetics, eval_tidy, data = data, env = env)\n",
      "29. FUN(X[[i]], ...)\n",
      "30. .handleSimpleError(function (cnd) \n",
      "  . {\n",
      "  .     {\n",
      "  .         .__handler_frame__. <- TRUE\n",
      "  .         .__setup_frame__. <- frame\n",
      "  .         if (inherits(cnd, \"message\")) {\n",
      "  .             except <- c(\"warning\", \"error\")\n",
      "  .         }\n",
      "  .         else if (inherits(cnd, \"warning\")) {\n",
      "  .             except <- \"error\"\n",
      "  .         }\n",
      "  .         else {\n",
      "  .             except <- \"\"\n",
      "  .         }\n",
      "  .     }\n",
      "  .     while (!is_null(cnd)) {\n",
      "  .         if (inherits(cnd, \"error\")) {\n",
      "  .             out <- handlers[[1L]](cnd)\n",
      "  .             if (!inherits(out, \"rlang_zap\")) \n",
      "  .                 throw(out)\n",
      "  .         }\n",
      "  .         inherit <- .subset2(.subset2(cnd, \"rlang\"), \"inherit\")\n",
      "  .         if (is_false(inherit)) {\n",
      "  .             return()\n",
      "  .         }\n",
      "  .         cnd <- .subset2(cnd, \"parent\")\n",
      "  .     }\n",
      "  . }, \"object 'dataset' not found\", base::quote(NULL))\n",
      "31. h(simpleError(msg, call))\n",
      "32. handlers[[1L]](cnd)\n",
      "33. cli::cli_abort(c(\"Problem while {step}.\", i = \"Error occurred in the {ordinal(i)} layer.\"), \n",
      "  .     call = layers[[i]]$constructor, parent = cnd)\n",
      "34. rlang::abort(message, ..., call = call, use_cli_format = TRUE, \n",
      "  .     .frame = .frame)\n",
      "35. signal_abort(cnd, .file)\n"
     ]
    }
   ],
   "source": [
    "library(ggplot2)\n",
    "ggplot() +\n",
    "  geom_point(aes(x = dataset$YearsExperience, y = dataset$Salary), colour = 'red') +\n",
    "  geom_line(aes(x = dataset$YearsExperience, y = predict(model, newdata = dataset)), colour = 'blue') +\n",
    "  ggtitle('Salary vs Experience') +\n",
    "  xlab('Years of experience') +\n",
    "  ylab('Salary')"
   ]
  },
  {
   "cell_type": "code",
   "execution_count": 5,
   "id": "6265e9bf-86bd-4001-a16c-b80d711ceb42",
   "metadata": {},
   "outputs": [
    {
     "ename": "ERROR",
     "evalue": "Error: object 'ggplot2' not found\n",
     "output_type": "error",
     "traceback": [
      "Error: object 'ggplot2' not found\nTraceback:\n",
      "1. .handleSimpleError(function (cnd) \n . {\n .     watcher$capture_plot_and_output()\n .     cnd <- sanitize_call(cnd)\n .     watcher$push(cnd)\n .     switch(on_error, continue = invokeRestart(\"eval_continue\"), \n .         stop = invokeRestart(\"eval_stop\"), error = NULL)\n . }, \"object 'ggplot2' not found\", base::quote(eval(expr, envir)))"
     ]
    }
   ],
   "source": [
    "install.packages(ggplot2)"
   ]
  },
  {
   "cell_type": "code",
   "execution_count": 6,
   "id": "33302459-81e0-433e-89ce-cec8774b02ad",
   "metadata": {},
   "outputs": [],
   "source": [
    "library(ggplot2)"
   ]
  },
  {
   "cell_type": "markdown",
   "id": "639c6029-df6f-4920-9a62-42f4c80fd355",
   "metadata": {},
   "source": [
    "Installed ggplot2 and then had to re-run my codes before I was able to perform a plot of the database data (struggles shown above). Had to go to the terminal and performed a \"conda install -c conda-forge r-ggplot2\""
   ]
  },
  {
   "cell_type": "code",
   "execution_count": 7,
   "id": "52f42bd3-a59f-4612-ba91-b9a0121ab73a",
   "metadata": {},
   "outputs": [
    {
     "data": {
      "image/png": "[encoded data removed]",
      "text/plain": [
       "plot without title"
      ]
     },
     "metadata": {
      "image/png": {
       "height": 420,
       "width": 420
      }
     },
     "output_type": "display_data"
    }
   ],
   "source": [
    "library(ggplot2)\n",
    "ggplot() +\n",
    "  geom_point(aes(x = dataset$YearsExperience, y = dataset$Salary), colour = 'red') +\n",
    "  geom_line(aes(x = dataset$YearsExperience, y = predict(model, newdata = dataset)), colour = 'blue') +\n",
    "  ggtitle('Salary vs Experience') +\n",
    "  xlab('Years of experience') +\n",
    "  ylab('Salary')"
   ]
  },
  {
   "cell_type": "markdown",
   "id": "0fbaa0a6-05ec-4804-9e9e-f6a2221a2c49",
   "metadata": {},
   "source": [
    "Generated a scatter plot with linear regression line. Labelled the x and y axes \"years of experience\" and \"salary\" respectively. \n",
    "Titled the graph \"salary vs experience\""
   ]
  },
  {
   "cell_type": "code",
   "execution_count": 8,
   "id": "31b10d30-5009-4e7d-9322-98043078d34b",
   "metadata": {},
   "outputs": [
    {
     "data": {
      "text/plain": [
       "\n",
       "Call:\n",
       "lm(formula = Salary ~ YearsExperience, data = dataset)\n",
       "\n",
       "Residuals:\n",
       "    Min      1Q  Median      3Q     Max \n",
       "-7540.2 -2564.9  -199.1  2814.8  6230.6 \n",
       "\n",
       "Coefficients:\n",
       "                Estimate Std. Error t value Pr(>|t|)    \n",
       "(Intercept)        29204       4092   7.136 9.84e-05 ***\n",
       "YearsExperience     8285       1532   5.407 0.000641 ***\n",
       "---\n",
       "Signif. codes:  0 ‘***’ 0.001 ‘**’ 0.01 ‘*’ 0.05 ‘.’ 0.1 ‘ ’ 1\n",
       "\n",
       "Residual standard error: 4680 on 8 degrees of freedom\n",
       "Multiple R-squared:  0.7852,\tAdjusted R-squared:  0.7583 \n",
       "F-statistic: 29.24 on 1 and 8 DF,  p-value: 0.0006407\n"
      ]
     },
     "metadata": {},
     "output_type": "display_data"
    }
   ],
   "source": [
    "summary(model)"
   ]
  },
  {
   "cell_type": "markdown",
   "id": "cb9e582e-a3ae-4e0f-aff0-55884fe2ebfe",
   "metadata": {},
   "source": [
    "Performed a statistical summary of the linear regression model of the dataset. The R-squared values and the p-value associated with the model is provided from this function."
   ]
  },
  {
   "cell_type": "markdown",
   "id": "3506a1d2-e84e-4111-b7f3-7a4960e10485",
   "metadata": {},
   "source": [
    "***Assignment 3***"
   ]
  },
  {
   "cell_type": "markdown",
   "id": "01431829-8ee9-41ca-89a8-0153e528c57d",
   "metadata": {},
   "source": [
    "At this point and beyond documents my work through assignment 3 where I enhance my linear regression plot. We already brought ggplot2 into our environment above. Therefore that was not performed here."
   ]
  },
  {
   "cell_type": "code",
   "execution_count": 9,
   "id": "699d0863-20a3-4a8f-834d-6aafb93ee634",
   "metadata": {},
   "outputs": [],
   "source": [
    "df <- data.frame(\n",
    "  x = dataset$YearsExperience,\n",
    "  y = dataset$Salary)"
   ]
  },
  {
   "cell_type": "markdown",
   "id": "0b3b88ce-2621-4d57-8063-ac7e16cdbbdc",
   "metadata": {},
   "source": [
    "Here I defined my dataframe which we will be using, this utilized the data from the CSV file, downloaded previously. "
   ]
  },
  {
   "cell_type": "code",
   "execution_count": 12,
   "id": "db2a0f99-f8d1-4322-a742-c6c53783f30f",
   "metadata": {},
   "outputs": [],
   "source": [
    "model <- lm(y ~ x, data = df)"
   ]
  },
  {
   "cell_type": "markdown",
   "id": "6d813a9b-da15-4dea-88f4-2599d460e388",
   "metadata": {},
   "source": [
    "Here I generated a linear regression model using the data, defining it as \"model\". Because we defined the data frame as \"df\" previously, I am able to define the data in our argument here."
   ]
  },
  {
   "cell_type": "code",
   "execution_count": 13,
   "id": "4e7685e4-f54f-4d94-b264-fdd5f7e7f643",
   "metadata": {},
   "outputs": [],
   "source": [
    "slope <- coef(model)[2]"
   ]
  },
  {
   "cell_type": "markdown",
   "id": "28884078-49c5-447f-b182-1428636fe8c0",
   "metadata": {},
   "source": [
    "Here I calculated the slope of our linear regression model. We defined the linear regression line as \"model\" and utilized it in our argument. We defined the slope calculated as \"slope\""
   ]
  },
  {
   "cell_type": "code",
   "execution_count": 14,
   "id": "49a084a5-1f87-4e10-95a4-918011fd7250",
   "metadata": {},
   "outputs": [],
   "source": [
    "intercept <- coef(model)[1]"
   ]
  },
  {
   "cell_type": "markdown",
   "id": "5b687e28-f185-4a49-aa98-0bbf7f10dca0",
   "metadata": {},
   "source": [
    "Here I calculated the intercept of our linear regression model. We defined the linear regression line as \"model\" and utilized it in our argument. We defined the intercept calculated as \"intercept\" "
   ]
  },
  {
   "cell_type": "code",
   "execution_count": 15,
   "id": "be347fa2-eb61-42bd-a931-261e57ef344d",
   "metadata": {},
   "outputs": [],
   "source": [
    "r <- cor(df$x, df$y)"
   ]
  },
  {
   "cell_type": "markdown",
   "id": "b6429e93-efc5-43a9-94e6-c92a088d3dbc",
   "metadata": {},
   "source": [
    "Here I calculated the correlation coefficient of our linear regression model. We defined the linear regression line as \"model\" and utilized it in our argument. We defined the correlation coefficient calculated as \"r\" "
   ]
  },
  {
   "cell_type": "code",
   "execution_count": 16,
   "id": "80d747f1-11da-4832-9b69-046c7c0a47bb",
   "metadata": {},
   "outputs": [],
   "source": [
    "pred <- predict(model)"
   ]
  },
  {
   "cell_type": "markdown",
   "id": "49a92fc7-0de1-43f0-8bbd-f868896d945b",
   "metadata": {},
   "source": [
    "Here we generated predicted y values based on our linear regression model. These values will be used in the geration of mean squared error "
   ]
  },
  {
   "cell_type": "code",
   "execution_count": 17,
   "id": "c81ec227-7db8-44ab-9024-651d3fa35c25",
   "metadata": {},
   "outputs": [],
   "source": [
    "mse <- mean((df$y - pred)^2)"
   ]
  },
  {
   "cell_type": "markdown",
   "id": "5aea2932-4358-4327-ad5b-ca2016821281",
   "metadata": {},
   "source": [
    "MSE = (1/n) * Σ (yᵢ - ŷᵢ)²\n",
    "\n",
    "yᵢ = actual observed value\n",
    "\n",
    "ŷᵢ = model-predicted value\n",
    "\n",
    "n = number of observations\n",
    "\n",
    "The smaller the MSE the better the model fit. The units are in squared units of y. The MSE emphasizes large errors more than small ones-- secondary to the squaring of the data."
   ]
  },
  {
   "cell_type": "code",
   "execution_count": 19,
   "id": "f90c5b65-15d0-4793-8ae3-3b1b7971f8ad",
   "metadata": {},
   "outputs": [
    {
     "name": "stderr",
     "output_type": "stream",
     "text": [
      "\u001b[1m\u001b[22m`geom_smooth()` using formula = 'y ~ x'\n"
     ]
    },
    {
     "data": {
      "image/png": "[encoded data removed]",
      "text/plain": [
       "plot without title"
      ]
     },
     "metadata": {
      "image/png": {
       "height": 420,
       "width": 420
      }
     },
     "output_type": "display_data"
    }
   ],
   "source": [
    "ggplot(df, aes(x = x, y = y)) +\n",
    "  geom_point() +\n",
    "  geom_smooth(method = \"lm\", se = FALSE, color = \"red\") +\n",
    "  annotate(\"text\", x = 1.5, y = max(df$y) - 0.5,\n",
    "           label = paste(\"y =\", round(slope, 2), \"x +\", round(intercept, 2),\n",
    "                         \"\\nr =\", round(r, 2), \"\\nMSE =\", round(mse, 2)),\n",
    "           size = 4) +\n",
    "  labs(title = \"Linear Fit of Salary vs Experience\",\n",
    "       x = \"Years of Experience\", y = \"Salary\") +\n",
    "  theme_minimal()"
   ]
  },
  {
   "cell_type": "markdown",
   "id": "37c50a6c-8f96-4759-8796-b358cdab20dc",
   "metadata": {},
   "source": [
    "With this set of code we are able to utilize the calculated slope, intercept, r, and MSE to generate a text annotation on the graph generated describing the linear regression line. \n",
    "\n",
    "As shown in the plot\n",
    "Slope= 8285.29\n",
    "Intercept= 29203.52\n",
    "r= 0.89\n",
    "MSE= 17523844.08\n",
    "\n",
    "The MSE is very high and emphasizes the large errors from the scatter plot to the line of best fit. \n"
   ]
  },
  {
   "cell_type": "code",
   "execution_count": 20,
   "id": "d6b2e1ae-85e5-445c-bac5-8400fee1d86a",
   "metadata": {},
   "outputs": [
    {
     "name": "stderr",
     "output_type": "stream",
     "text": [
      "\u001b[1m\u001b[22mSaving 7 x 7 in image\n",
      "\u001b[1m\u001b[22m`geom_smooth()` using formula = 'y ~ x'\n"
     ]
    }
   ],
   "source": [
    "ggsave(\"regression_plot_r.png\")"
   ]
  },
  {
   "cell_type": "markdown",
   "id": "5b2b061c-01fc-4bbe-ba52-12dfb329279c",
   "metadata": {},
   "source": [
    "Generated a copy of the plot into a .png file labelled \"regression_plot_r.png\""
   ]
  }
 ],
 "metadata": {
  "kernelspec": {
   "display_name": "R (7030_class_1)",
   "language": "R",
   "name": "ir_7030_class_1"
  },
  "language_info": {
   "codemirror_mode": "r",
   "file_extension": ".r",
   "mimetype": "text/x-r-source",
   "name": "R",
   "pygments_lexer": "r",
   "version": "4.4.3"
  }
 },
 "nbformat": 4,
 "nbformat_minor": 5
}
